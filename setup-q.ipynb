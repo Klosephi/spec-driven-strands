{
 "cells": [
  {
   "cell_type": "markdown",
   "id": "6cda5233",
   "metadata": {},
   "source": [
    "# Lab 6: Spec-driven development of a visual conversation analytics agent\n",
    "\n",
    "The goal of this lab is to augment the existing environment with an additional agent which helps us to analyze previous conversation to improve the quality of our support center. A key prerequisite is the set up of the Q Developer CLI for building the AI Agent using the AWS Strands SDK. The setup further includes package managers, MCP servers, and development rules for spec-driven development. We use the spec-driven technique to generate the additional AI agent.\n",
    "\n",
    "## Prerequisites\n",
    "- AWS Builder ID. Free sign-up: https://builder.aws.com/start\n",
    "- Previous labs executed until Lab 4\n",
    "- Internet connection for downloading packages\n",
    "\n",
    "\n",
    "Execute all the steps in the JupyterLab Termnial. Therefore, open a new Terminal session by navigating to the launcher page and start a fresh Terminal session\n",
    "\n",
    "![alt text](./img/open_terminal.png)\n",
    "---"
   ]
  },
  {
   "cell_type": "markdown",
   "id": "uv-section",
   "metadata": {},
   "source": [
    "## Step 1: Install UV Package Manager\n",
    "\n",
    "UV is a fast Python package manager that we'll use to manage dependencies and run tools. This command downloads and installs UV, then reloads the shell to make it available in the current session."
   ]
  },
  {
   "cell_type": "code",
   "execution_count": null,
   "id": "e77a4b04",
   "metadata": {
    "vscode": {
     "languageId": "shellscript"
    }
   },
   "outputs": [],
   "source": [
    "curl -LsSf https://astral.sh/uv/install.sh | sh && exec $SHELL"
   ]
  },
  {
   "cell_type": "markdown",
   "id": "d8c059bf",
   "metadata": {},
   "source": [
    "Ignore warnings/errors that the uv or uvx is already configured for this shell.\n",
    "\n",
    "Now we need to start Q Developer CLI the first time and login into the AWS builders account"
   ]
  },
  {
   "cell_type": "code",
   "execution_count": null,
   "id": "b8f74b27",
   "metadata": {
    "vscode": {
     "languageId": "shellscript"
    }
   },
   "outputs": [],
   "source": [
    "q login"
   ]
  },
  {
   "cell_type": "markdown",
   "id": "0ef43736",
   "metadata": {},
   "source": [
    "You see see a scree like this. Choose Free Builder ID.\n",
    "\n",
    "![alt text](./img/q_login.png)\n",
    "\n",
    "Open the link in a fresh browser tab and follow the instruction to login until you see that screen\n",
    "\n",
    "![alt text](./img/q_login_success.png)"
   ]
  },
  {
   "cell_type": "markdown",
   "id": "a075a8e1",
   "metadata": {
    "vscode": {
     "languageId": "shellscript"
    }
   },
   "source": [
    "Congratulations, the Q CLI is now ready to use!"
   ]
  },
  {
   "cell_type": "markdown",
   "id": "mcp-config-section",
   "metadata": {},
   "source": [
    "## Step 2: Configure Strands MCP Server\n",
    "\n",
    "This step sets up the MCP (Model Context Protocol) configuration environment for the Q CLI and specifically the Strands Agents MCP server. The configuration:\n",
    "\n",
    "- Creates the Q CLI configuration directory\n",
    "- Configures the Strands MCP server to run via `uvx`\n",
    "- Sets logging level to INFO for debugging\n",
    "- Auto-approves safe documentation tools (`search_docs`, `fetch_doc`)\n",
    "\n",
    "The MCP server provides access to Strands SDK documentation and examples directly within Q CLI."
   ]
  },
  {
   "cell_type": "code",
   "execution_count": null,
   "id": "5c6b08bb",
   "metadata": {
    "vscode": {
     "languageId": "shellscript"
    }
   },
   "outputs": [],
   "source": [
    "# Create the MCP configuration directory if it doesn't exist\n",
    "mkdir -p ~/.aws/amazonq\n",
    "\n",
    "# Add the Strands MCP server configuration to Q CLI\n",
    "cat > ~/.aws/amazonq/mcp.json << 'EOF'\n",
    "{\n",
    "  \"mcpServers\": {\n",
    "    \"strands-agents\": {\n",
    "      \"command\": \"uvx\",\n",
    "      \"args\": [\"strands-agents-mcp-server\"],\n",
    "      \"env\": {\n",
    "        \"FASTMCP_LOG_LEVEL\": \"INFO\"\n",
    "      },\n",
    "      \"disabled\": false,\n",
    "      \"autoApprove\": [\n",
    "        \"search_docs\",\n",
    "        \"fetch_doc\"\n",
    "      ]\n",
    "    }\n",
    "  }\n",
    "}\n",
    "EOF"
   ]
  },
  {
   "cell_type": "markdown",
   "id": "aws-docs-section",
   "metadata": {},
   "source": [
    "## Step 3: Add AWS Documentation MCP Server\n",
    "\n",
    "Add the AWS Documentation MCP server to Q CLI. It provides access to official AWS services documentation. This is essential for understanding AWS services and their APIs while developing agents."
   ]
  },
  {
   "cell_type": "code",
   "execution_count": null,
   "id": "7336f84f",
   "metadata": {
    "vscode": {
     "languageId": "shellscript"
    }
   },
   "outputs": [],
   "source": [
    "q mcp add --name aws-documentation --command uvx --args \"awslabs.aws-documentation-mcp-server@latest\" --env \"FASTMCP_LOG_LEVEL\n",
    "=ERROR,AWS_DOCUMENTATION_PARTITION=aws\""
   ]
  },
  {
   "cell_type": "markdown",
   "id": "bedrock-section",
   "metadata": {},
   "source": [
    "## Step 4: Add Amazon Bedrock AgentCore MCP Server\n",
    "\n",
    "This step adds the Amazon Bedrock AgentCore MCP server, which provides tools for:\n",
    "\n",
    "- Managing Bedrock agents and knowledge bases\n",
    "- Querying knowledge bases with natural language\n",
    "- Accessing AgentCore deployment capabilities\n",
    "\n",
    "The `FASTMCP_LOG_LEVEL=ERROR` setting reduces log verbosity for cleaner output."
   ]
  },
  {
   "cell_type": "code",
   "execution_count": null,
   "id": "a66488bb",
   "metadata": {
    "vscode": {
     "languageId": "shellscript"
    }
   },
   "outputs": [],
   "source": [
    "q  mcp add --name amazon-bedrock-agentcore-mcp-server --command uvx --args \"awslabs.amazon-bedrock-agentcore-mcp-server@latest\" --env FASTMCP_LOG_LEVEL=ERROR"
   ]
  },
  {
   "cell_type": "markdown",
   "id": "rules-section",
   "metadata": {},
   "source": [
    "## Step 5: Download and Setup Development Rules\n",
    "\n",
    "This step downloads the development rules file that defines:\n",
    "\n",
    "- Project structure standards for Strands agents\n",
    "- Development workflow guidelines\n",
    "- Code generation constraints\n",
    "- Testing requirements\n",
    "\n",
    "The rules file is placed in the Q CLI rules directory to enable spec-driven development practices."
   ]
  },
  {
   "cell_type": "code",
   "execution_count": null,
   "id": "1a41c944",
   "metadata": {
    "vscode": {
     "languageId": "shellscript"
    }
   },
   "outputs": [],
   "source": [
    "wget https://raw.githubusercontent.com/Klosephi/spec-driven-strands/refs/heads/main/rule.md\n",
    "mkdir -p .amazonq/rules\n",
    "mv rule.md .amazonq/rules/"
   ]
  },
  {
   "cell_type": "markdown",
   "id": "91519ea3",
   "metadata": {},
   "source": [
    "## Step 6: Validate the Setup\n",
    "\n",
    "Let's validate that we successfully installed the tools and configuration. Start the Q CLI and see if our MCP servers a getting started. When we do this the first time it might take some time for Q to load and install all the tools you might find a warning."
   ]
  },
  {
   "cell_type": "code",
   "execution_count": null,
   "id": "7d09586a",
   "metadata": {
    "vscode": {
     "languageId": "shellscript"
    }
   },
   "outputs": [],
   "source": [
    "q chat"
   ]
  },
  {
   "cell_type": "markdown",
   "id": "28ea09c3",
   "metadata": {},
   "source": [
    "We can at anytime check the status of our tools by typing /tools insinde the chat"
   ]
  },
  {
   "cell_type": "code",
   "execution_count": null,
   "id": "403f5881",
   "metadata": {
    "vscode": {
     "languageId": "shellscript"
    }
   },
   "outputs": [],
   "source": [
    "/tools"
   ]
  },
  {
   "cell_type": "markdown",
   "id": "4572b0c3",
   "metadata": {},
   "source": [
    "![alt text](./img/q_started.png)"
   ]
  },
  {
   "cell_type": "markdown",
   "id": "rules-explanation-section",
   "metadata": {},
   "source": [
    "---\n",
    "\n",
    "## Understanding Q CLI Rules and Spec-Driven Development\n",
    "\n",
    "### What are Q CLI Rules?\n",
    "\n",
    "**Q CLI Rules** are markdown files that define project-specific guidelines, coding standards, and behavioral rules for Amazon Q Developer CLI. These rules are automatically integrated into agent contexts, ensuring consistent behavior across your development workflow.\n",
    "\n",
    "**Key Features:**\n",
    "- **Workspace-specific**: Rules only apply to the current project directory\n",
    "- **Automatic integration**: Default agent includes all rules from `.amazonq/rules/**/*.md`\n",
    "- **Context loading**: Rules become part of the agent's context, influencing all interactions\n",
    "- **Markdown format**: Standard markdown files with headers, code blocks, and examples\n",
    "\n",
    "**Reference:** [AWS Documentation - Project Rules](https://docs.aws.amazon.com/amazonq/latest/qdeveloper-ug/command-line-project-rules.html)\n",
    "\n",
    "### How Rules Work\n",
    "\n",
    "1. **Storage**: Rules are stored in `.amazonq/rules/` directory as `.md` files\n",
    "2. **Loading**: Q CLI automatically loads all rules when starting an agent session\n",
    "3. **Context**: Rules become part of the agent's system context\n",
    "4. **Influence**: Every code generation and suggestion follows the defined rules\n",
    "\n",
    "### Rule Types\n",
    "\n",
    "**Coding Standards:**\n",
    "```markdown\n",
    "# Python Coding Standards\n",
    "- Use Black for code formatting\n",
    "- Maximum line length: 88 characters\n",
    "- Use type hints for all functions\n",
    "```\n",
    "\n",
    "**Architecture Guidelines:**\n",
    "```markdown\n",
    "# Architecture Guidelines\n",
    "- Use microservices pattern for new features\n",
    "- Implement circuit breaker for external APIs\n",
    "- All services must expose health endpoints\n",
    "```\n",
    "\n",
    "**Security Policies:**\n",
    "```markdown\n",
    "# Security Guidelines\n",
    "- All API endpoints require authentication\n",
    "- Never log sensitive information\n",
    "- Use parameterized queries\n",
    "```\n",
    "### What is Spec-Driven Development?\n",
    "\n",
    "**Spec-Driven Development** is a methodology where development is guided by explicit specifications and rules that define:\n",
    "\n",
    "- **Project Structure**: Standardized directory layouts and file organization\n",
    "- **Development Workflow**: Step-by-step processes for building features\n",
    "- **Code Generation**: Constraints and patterns for consistent code output\n",
    "- **Testing Requirements**: Mandatory testing practices and coverage\n",
    "\n",
    "### Benefits of Spec-Driven Development\n",
    "\n",
    "1. **Consistency**: All team members follow the same patterns\n",
    "2. **Quality**: Built-in best practices and standards\n",
    "3. **Efficiency**: Reduced decision-making overhead\n",
    "4. **Maintainability**: Predictable code structure and patterns\n",
    "5. **Onboarding**: New developers can quickly understand project conventions\n",
    "\n",
    "### How It Works with Strands SDK\n",
    "\n",
    "The rules file we downloaded defines specific patterns for **AWS Strands Agent development**:\n",
    "\n",
    "**Project Structure:**\n",
    "```\n",
    "project/\n",
    "├── infra/           # Jupyter notebooks for AWS infrastructure\n",
    "├── src/\n",
    "│   ├── agents/      # Strands agent implementations\n",
    "│   └── tools/       # Custom Python tools\n",
    "└── tests/           # Unit and integration tests\n",
    "```\n",
    "\n",
    "**Development Workflow:**\n",
    "1. **Research Phase**: Check PyPI for latest Strands SDK, validate existing tools\n",
    "2. **Incremental Development**: Small, testable chunks with simple implementations\n",
    "3. **Code Generation**: Precise scope, no assumptions about unstated requirements"
   ]
  },
  {
   "cell_type": "markdown",
   "id": "next-steps-section",
   "metadata": {},
   "source": [
    "---\n",
    "\n",
    "## Working with Q CLI - Getting Started\n",
    "\n",
    "After completing the setup, you're ready to start using Q CLI for spec-driven development. Here's how to work with Q CLI effectively:\n",
    "\n",
    "### How Q CLI Works\n",
    "\n",
    "**Q CLI** is an interactive AI assistant that:\n",
    "- Automatically loads your project rules from `.amazonq/rules/`\n",
    "- Uses MCP servers to access documentation and tools\n",
    "- Provides context-aware code generation and guidance\n",
    "- Can execute commands and create files in your project\n",
    "\n",
    "### Starting Q CLI\n",
    "\n",
    "1. **Open terminal** in your project directory\n",
    "2. **Run:** `q chat`\n",
    "3. **Wait** for Q CLI to load rules and MCP servers\n",
    "4. **Start chatting** with natural language prompts\n",
    "\n",
    "### Tool Trust and Permissions\n",
    "\n",
    "When Q CLI wants to use tools (create files, run commands), it will:\n",
    "- **Ask for permission** before executing actions\n",
    "- **Show you** exactly what it plans to do\n",
    "- **Wait for approval** before proceeding\n",
    "\n",
    "**Common responses:**\n",
    "- Type `y` or `yes` to approve\n",
    "- Type `n` or `no` to decline\n",
    "- Type `always` to auto-approve similar actions\n",
    "- Type `never` to block similar actions\n",
    "\n",
    "### Best Practices\n",
    "- **Review** what Q CLI plans to do before approving\n",
    "- **Start small** with simple requests to build trust\n",
    "- **Be specific** in your prompts for better results\n",
    "- **Use incremental** development approach"
   ]
  },
  {
   "cell_type": "markdown",
   "id": "be9caa82",
   "metadata": {},
   "source": [
    "*Q CLI Commands:**\n",
    "```bash\n",
    "# Start interactive chat\n",
    "q chat\n",
    "\n",
    "# List available MCP servers\n",
    "q mcp list\n",
    "\n",
    "# Get help\n",
    "q --help\n",
    "\n",
    "# Exit Q CLI\n",
    "/quit\n",
    "```"
   ]
  },
  {
   "cell_type": "markdown",
   "id": "0f85e8bc",
   "metadata": {
    "vscode": {
     "languageId": "raw"
    }
   },
   "source": [
    "---\n",
    "## Step 7: Vibe-code the conversation analytics Agent\n",
    "\n",
    "We want to build an agent which helps us to analyze previous conversation to improve the quality of our support center. Therefore we ask Q CLI to understand the current context where and how to deploy the agent to first. Then we provide the requirements.\n",
    "\n",
    "Please Note:\n",
    "- It will ask for allowance if it's going to use the tool the first time. You can trust it.\n",
    "- If the agents waits and does not clearly ask for input allowance, tell the agent to go on.\n",
    "- Experiment! This is not a fully optimized example in a way that you copy and paste it, success means that the agent follows the rules we defined upfront to execute the task as we defined it and you iterate it.\n",
    "- If the session is summarized remind the CLI to continue with the plan\n",
    "\n",
    "Start (or continue) the Q CLI chat:"
   ]
  },
  {
   "cell_type": "code",
   "execution_count": null,
   "id": "e7fe1a01",
   "metadata": {
    "vscode": {
     "languageId": "shellscript"
    }
   },
   "outputs": [],
   "source": [
    "q chat"
   ]
  },
  {
   "cell_type": "markdown",
   "id": "aa55858c",
   "metadata": {},
   "source": [
    "Now let's deploy and see spec-driven development using the Q CLI in action! Copy & paste the prompt below into your active Q CLI chat to start the process:\n",
    "\n",
    "**Remember:** The Q CLI asks for review and confirmation to proceed hence it waits for your input. The overall process completes in about 15min. Watch how it executes the plan, runs tests, fixes the code and redeploys as needed."
   ]
  },
  {
   "cell_type": "code",
   "execution_count": null,
   "id": "7adb6d50",
   "metadata": {
    "vscode": {
     "languageId": "xml"
    }
   },
   "outputs": [],
   "source": [
    "I want to create a very simple Visual Analytics Agent for the Customer support application. This agent is an extension of the existing strands application. \n",
    "To understand the application we want to extend understand these notebooks bedrock-agentcore-workshop/lab-04-agentcore-runtime.ipynb and bedrock-agentcore-workshop/lab-03-agentcore-gateway.ipynb.\n",
    "\n",
    "\n",
    "The Agent must generate real-time visual insights from conversation data. \n",
    "** Important:** \n",
    "    - Reuse the existing Agentcore setup, Reuse the execution role from the previous deployment.\n",
    "\n",
    "**Requirements:**\n",
    "- Deploy as independent Agent (no modifications to existing customer support agent)\n",
    "- Mock the conversation history instead of using real data\n",
    "- I want to understand how many conversations the agent had with how many clients. Instead of text response I want to have a visually appealing chart\n",
    "- Enable usage and application logs for the agent"
   ]
  },
  {
   "cell_type": "markdown",
   "id": "6c2c1cb3",
   "metadata": {},
   "source": [
    "### Result\n",
    "Once the process completes, the Q CLI provides you a summary. Explore the generated artifacts. You will notice that it followed the rules and specifications, integrated into the existing AgentCore Runtime and Identity provider as your existing Customer Support Agent. You can browse in the AWS Console to the Bedrock AgentCore service to verify the deployment. To interact with the newly created Visual Analytics Agent, you can either enhance the created notebook or simply ask Q CLI to build you a notebook so that you can test the agent with your own queries.\n",
    "\n",
    "![alt text](./img/conversation_analytics_agent.png)\n",
    "\n",
    "Exemplary results of the Visual Analytics Agent using mock conversation data:\n",
    "![alt text](./img/exemplary_results.png)"
   ]
  },
  {
   "cell_type": "markdown",
   "id": "references-section",
   "metadata": {},
   "source": [
    "---\n",
    "\n",
    "## References\n",
    "\n",
    "### AWS Documentation\n",
    "- [Amazon Q Developer Project Rules](https://docs.aws.amazon.com/amazonq/latest/qdeveloper-ug/command-line-project-rules.html)\n",
    "- [Amazon Q Developer Features](https://docs.aws.amazon.com/amazonq/latest/qdeveloper-ug/features.html)\n",
    "- [AWS Prescriptive Guidance - Developer Workflows](https://docs.aws.amazon.com/prescriptive-guidance/latest/best-practices-code-generation/developer-workflows.html)\n",
    "\n",
    "### Strands SDK Documentation\n",
    "- [Strands Multi-Agent Patterns](https://strandsagents.com/latest/documentation/docs/user-guide/concepts/multi-agent/multi-agent-patterns/)\n",
    "- [Agent2Agent (A2A) Protocol](https://strandsagents.com/latest/documentation/docs/user-guide/concepts/multi-agent/agent-to-agent/)\n",
    "- [CLI Reference Implementation](https://strandsagents.com/latest/documentation/docs/examples/python/cli-reference-agent/)\n",
    "\n",
    "### Tools and Protocols\n",
    "- [Model Context Protocol (MCP)](https://modelcontextprotocol.io/)\n",
    "- [UV Package Manager](https://docs.astral.sh/uv/)\n",
    "- [Agent2Agent Protocol](https://a2aproject.github.io/A2A/latest/)"
   ]
  }
 ],
 "metadata": {
  "kernelspec": {
   "display_name": "Python 3",
   "language": "python",
   "name": "python3"
  },
  "language_info": {
   "codemirror_mode": {
    "name": "ipython",
    "version": 3
   },
   "file_extension": ".py",
   "mimetype": "text/x-python",
   "name": "python",
   "nbconvert_exporter": "python",
   "pygments_lexer": "ipython3",
   "version": "3.9.0"
  }
 },
 "nbformat": 4,
 "nbformat_minor": 5
}
