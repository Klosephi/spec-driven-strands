{
 "cells": [
  {
   "cell_type": "markdown",
   "id": "27d2867a",
   "metadata": {},
   "source": [
    "<!--\n",
    " Copyright 2025 klosep\n",
    " \n",
    " Licensed under the Apache License, Version 2.0 (the \"License\");\n",
    " you may not use this file except in compliance with the License.\n",
    " You may obtain a copy of the License at\n",
    " \n",
    "     https://www.apache.org/licenses/LICENSE-2.0\n",
    " \n",
    " Unless required by applicable law or agreed to in writing, software\n",
    " distributed under the License is distributed on an \"AS IS\" BASIS,\n",
    " WITHOUT WARRANTIES OR CONDITIONS OF ANY KIND, either express or implied.\n",
    " See the License for the specific language governing permissions and\n",
    " limitations under the License.\n",
    "-->\n",
    "\n"
   ]
  },
  {
   "cell_type": "markdown",
   "id": "576fe082",
   "metadata": {},
   "source": [
    "Install UV package manager"
   ]
  },
  {
   "cell_type": "code",
   "execution_count": null,
   "id": "e77a4b04",
   "metadata": {
    "vscode": {
     "languageId": "shellscript"
    }
   },
   "outputs": [],
   "source": [
    "curl -LsSf https://astral.sh/uv/install.sh | sh && exec $SHELL"
   ]
  },
  {
   "cell_type": "code",
   "execution_count": null,
   "id": "3e5f3031",
   "metadata": {
    "vscode": {
     "languageId": "shellscript"
    }
   },
   "outputs": [],
   "source": [
    "# Copyright 2025 klosep\n",
    "# \n",
    "# Licensed under the Apache License, Version 2.0 (the \"License\");\n",
    "# you may not use this file except in compliance with the License.\n",
    "# You may obtain a copy of the License at\n",
    "# \n",
    "#     https://www.apache.org/licenses/LICENSE-2.0\n",
    "# \n",
    "# Unless required by applicable law or agreed to in writing, software\n",
    "# distributed under the License is distributed on an \"AS IS\" BASIS,\n",
    "# WITHOUT WARRANTIES OR CONDITIONS OF ANY KIND, either express or implied.\n",
    "# See the License for the specific language governing permissions and\n",
    "# limitations under the License.\n",
    "\n"
   ]
  },
  {
   "cell_type": "code",
   "execution_count": null,
   "id": "5c6b08bb",
   "metadata": {
    "vscode": {
     "languageId": "shellscript"
    }
   },
   "outputs": [],
   "source": [
    "# Create the MCP configuration directory if it doesn't exist\n",
    "mkdir -p ~/.aws/amazonq\n",
    "\n",
    "# Add the Strands MCP server configuration to Q CLI\n",
    "cat > ~/.aws/amazonq/mcp.json << 'EOF'\n",
    "{\n",
    "  \"mcpServers\": {\n",
    "    \"strands-agents\": {\n",
    "      \"command\": \"uvx\",\n",
    "      \"args\": [\"strands-agents-mcp-server\"],\n",
    "      \"env\": {\n",
    "        \"FASTMCP_LOG_LEVEL\": \"INFO\"\n",
    "      },\n",
    "      \"disabled\": false,\n",
    "      \"autoApprove\": [\n",
    "        \"search_docs\",\n",
    "        \"fetch_doc\"\n",
    "      ]\n",
    "    }\n",
    "  }\n",
    "}\n",
    "EOF"
   ]
  },
  {
   "cell_type": "code",
   "execution_count": null,
   "id": "7336f84f",
   "metadata": {
    "vscode": {
     "languageId": "shellscript"
    }
   },
   "outputs": [],
   "source": [
    "q mcp add --name aws-documentation --command uvx --args aws-documentation-mcp-server"
   ]
  },
  {
   "cell_type": "code",
   "execution_count": null,
   "id": "a66488bb",
   "metadata": {
    "vscode": {
     "languageId": "shellscript"
    }
   },
   "outputs": [],
   "source": [
    "q  mcp add --name amazon-bedrock-agentcore-mcp-server --command uvx --args \"awslabs.amazon-bedrock-agentcore-mcp-server@latest\" --env FASTMCP_LOG_LEVEL=ERROR"
   ]
  },
  {
   "cell_type": "code",
   "execution_count": null,
   "id": "1a41c944",
   "metadata": {
    "vscode": {
     "languageId": "shellscript"
    }
   },
   "outputs": [],
   "source": [
    "wget https://github.com/Klosephi/spec-driven-strands/blob/3fe8b41b1867eddbdbfe219301186d8f5394c199/rule.md\n",
    "mkdir -p .amazonq/rules\n",
    "mv rule.md .amazonq/rules/"
   ]
  },
  {
   "cell_type": "markdown",
   "id": "62e94395",
   "metadata": {
    "vscode": {
     "languageId": "shellscript"
    }
   },
   "source": [
    "Understand the current Agentcore deployment and project read this notebook to understand the deployment bedrock-agentcore-workshop/lab-05-frontend.ipynd"
   ]
  },
  {
   "cell_type": "markdown",
   "id": "5414af5d",
   "metadata": {},
   "source": [
    "Create a Visual Analytics Agent for Customer Support Memory Analysis\n",
    "\n",
    "Build a standalone Visual Analytics Agent that connects directly to the existing customer support memory system to generate real-time visual insights from conversation\n",
    "data.\n",
    "\n",
    "Requirements:\n",
    "• Deploy as independent service (no modifications to existing customer support agent)\n",
    "• Connect directly to the same memory backend used by customer support agent\n",
    "• Generate charts: conversation trends, resolution rates, topic distribution, session patterns"
   ]
  }
 ],
 "metadata": {
  "language_info": {
   "name": "python"
  }
 },
 "nbformat": 4,
 "nbformat_minor": 5
}
