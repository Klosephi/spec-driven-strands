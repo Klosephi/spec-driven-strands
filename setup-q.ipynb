{
 "cells": [
  {
   "cell_type": "markdown",
   "id": "main-title",
   "metadata": {},
   "source": [
    "# Q CLI Setup for Strands SDK Development\n",
    "\n",
    "This notebook provides step-by-step instructions to set up the Q CLI environment for developing AI agents using the AWS Strands SDK in an AWS event environment. The setup includes package managers, MCP servers, and development rules for spec-driven development. We will use Spec driven vibe coding to create an agent\n",
    "\n",
    "## Prerequisites\n",
    "- AWS CLI configured with appropriate permissions\n",
    "- Internet connection for downloading packages\n",
    "- Shell access (bash/zsh)\n",
    "---"
   ]
  },
  {
   "cell_type": "markdown",
   "id": "uv-section",
   "metadata": {},
   "source": [
    "## Step 1: Install UV Package Manager\n",
    "\n",
    "UV is a fast Python package manager that we'll use to manage dependencies and run tools. This command downloads and installs UV, then reloads the shell to make it available in the current session."
   ]
  },
  {
   "cell_type": "code",
   "execution_count": null,
   "id": "e77a4b04",
   "metadata": {
    "vscode": {
     "languageId": "shellscript"
    }
   },
   "outputs": [],
   "source": [
    "curl -LsSf https://astral.sh/uv/install.sh | sh && exec $SHELL"
   ]
  },
  {
   "cell_type": "markdown",
   "id": "mcp-config-section",
   "metadata": {},
   "source": [
    "## Step 2: Configure Strands MCP Server\n",
    "\n",
    "This step sets up the Model Context Protocol (MCP) configuration for the Strands Agents server. The configuration:\n",
    "\n",
    "- Creates the Q CLI configuration directory\n",
    "- Configures the Strands MCP server to run via `uvx`\n",
    "- Sets logging level to INFO for debugging\n",
    "- Auto-approves safe documentation tools (`search_docs`, `fetch_doc`)\n",
    "\n",
    "The MCP server provides access to Strands SDK documentation and examples directly within Q CLI."
   ]
  },
  {
   "cell_type": "code",
   "execution_count": null,
   "id": "5c6b08bb",
   "metadata": {
    "vscode": {
     "languageId": "shellscript"
    }
   },
   "outputs": [],
   "source": [
    "# Create the MCP configuration directory if it doesn't exist\n",
    "mkdir -p ~/.aws/amazonq\n",
    "\n",
    "# Add the Strands MCP server configuration to Q CLI\n",
    "cat > ~/.aws/amazonq/mcp.json << 'EOF'\n",
    "{\n",
    "  \"mcpServers\": {\n",
    "    \"strands-agents\": {\n",
    "      \"command\": \"uvx\",\n",
    "      \"args\": [\"strands-agents-mcp-server\"],\n",
    "      \"env\": {\n",
    "        \"FASTMCP_LOG_LEVEL\": \"INFO\"\n",
    "      },\n",
    "      \"disabled\": false,\n",
    "      \"autoApprove\": [\n",
    "        \"search_docs\",\n",
    "        \"fetch_doc\"\n",
    "      ]\n",
    "    }\n",
    "  }\n",
    "}\n",
    "EOF"
   ]
  },
  {
   "cell_type": "markdown",
   "id": "aws-docs-section",
   "metadata": {},
   "source": [
    "## Step 3: Add AWS Documentation MCP Server\n",
    "\n",
    "This command adds the AWS Documentation MCP server to Q CLI, providing access to official AWS service documentation. This is essential for understanding AWS services and their APIs while developing agents."
   ]
  },
  {
   "cell_type": "code",
   "execution_count": null,
   "id": "7336f84f",
   "metadata": {
    "vscode": {
     "languageId": "shellscript"
    }
   },
   "outputs": [],
   "source": [
    "q mcp add --name aws-documentation --command uvx --args aws-documentation-mcp-server"
   ]
  },
  {
   "cell_type": "markdown",
   "id": "bedrock-section",
   "metadata": {},
   "source": [
    "## Step 4: Add Amazon Bedrock AgentCore MCP Server\n",
    "\n",
    "This step adds the Amazon Bedrock AgentCore MCP server, which provides tools for:\n",
    "\n",
    "- Managing Bedrock agents and knowledge bases\n",
    "- Querying knowledge bases with natural language\n",
    "- Accessing AgentCore deployment capabilities\n",
    "\n",
    "The `FASTMCP_LOG_LEVEL=ERROR` setting reduces log verbosity for cleaner output."
   ]
  },
  {
   "cell_type": "code",
   "execution_count": null,
   "id": "a66488bb",
   "metadata": {
    "vscode": {
     "languageId": "shellscript"
    }
   },
   "outputs": [],
   "source": [
    "q  mcp add --name amazon-bedrock-agentcore-mcp-server --command uvx --args \"awslabs.amazon-bedrock-agentcore-mcp-server@latest\" --env FASTMCP_LOG_LEVEL=ERROR"
   ]
  },
  {
   "cell_type": "markdown",
   "id": "rules-section",
   "metadata": {},
   "source": [
    "## Step 5: Download and Setup Development Rules\n",
    "\n",
    "This step downloads the development rules file that defines:\n",
    "\n",
    "- Project structure standards for Strands agents\n",
    "- Development workflow guidelines\n",
    "- Code generation constraints\n",
    "- Testing requirements\n",
    "\n",
    "The rules file is placed in the Q CLI rules directory to enable spec-driven development practices."
   ]
  },
  {
   "cell_type": "code",
   "execution_count": null,
   "id": "1a41c944",
   "metadata": {
    "vscode": {
     "languageId": "shellscript"
    }
   },
   "outputs": [],
   "source": [
    "wget https://github.com/Klosephi/spec-driven-strands/blob/3fe8b41b1867eddbdbfe219301186d8f5394c199/rule.md\n",
    "mkdir -p .amazonq/rules\n",
    "mv rule.md .amazonq/rules/"
   ]
  },
  {
   "cell_type": "markdown",
   "id": "rules-explanation-section",
   "metadata": {},
   "source": [
    "---\n",
    "\n",
    "## Understanding Q CLI Rules and Spec-Driven Development\n",
    "\n",
    "### What are Q CLI Rules?\n",
    "\n",
    "**Q CLI Rules** are markdown files that define project-specific guidelines, coding standards, and behavioral rules for Amazon Q Developer CLI. These rules are automatically integrated into agent contexts, ensuring consistent behavior across your development workflow.\n",
    "\n",
    "**Key Features:**\n",
    "- **Workspace-specific**: Rules only apply to the current project directory\n",
    "- **Automatic integration**: Default agent includes all rules from `.amazonq/rules/**/*.md`\n",
    "- **Context loading**: Rules become part of the agent's context, influencing all interactions\n",
    "- **Markdown format**: Standard markdown files with headers, code blocks, and examples\n",
    "\n",
    "**Reference:** [AWS Documentation - Project Rules](https://docs.aws.amazon.com/amazonq/latest/qdeveloper-ug/command-line-project-rules.html)\n",
    "\n",
    "### How Rules Work\n",
    "\n",
    "1. **Storage**: Rules are stored in `.amazonq/rules/` directory as `.md` files\n",
    "2. **Loading**: Q CLI automatically loads all rules when starting an agent session\n",
    "3. **Context**: Rules become part of the agent's system context\n",
    "4. **Influence**: Every code generation and suggestion follows the defined rules\n",
    "\n",
    "### Rule Types\n",
    "\n",
    "**Coding Standards:**\n",
    "```markdown\n",
    "# Python Coding Standards\n",
    "- Use Black for code formatting\n",
    "- Maximum line length: 88 characters\n",
    "- Use type hints for all functions\n",
    "```\n",
    "\n",
    "**Architecture Guidelines:**\n",
    "```markdown\n",
    "# Architecture Guidelines\n",
    "- Use microservices pattern for new features\n",
    "- Implement circuit breaker for external APIs\n",
    "- All services must expose health endpoints\n",
    "```\n",
    "\n",
    "**Security Policies:**\n",
    "```markdown\n",
    "# Security Guidelines\n",
    "- All API endpoints require authentication\n",
    "- Never log sensitive information\n",
    "- Use parameterized queries\n",
    "```"
   ]
  },
  {
   "cell_type": "markdown",
   "id": "spec-driven-section",
   "metadata": {},
   "source": [
    "### What is Spec-Driven Development?\n",
    "\n",
    "**Spec-Driven Development** is a methodology where development is guided by explicit specifications and rules that define:\n",
    "\n",
    "- **Project Structure**: Standardized directory layouts and file organization\n",
    "- **Development Workflow**: Step-by-step processes for building features\n",
    "- **Code Generation**: Constraints and patterns for consistent code output\n",
    "- **Testing Requirements**: Mandatory testing practices and coverage\n",
    "\n",
    "### Benefits of Spec-Driven Development\n",
    "\n",
    "1. **Consistency**: All team members follow the same patterns\n",
    "2. **Quality**: Built-in best practices and standards\n",
    "3. **Efficiency**: Reduced decision-making overhead\n",
    "4. **Maintainability**: Predictable code structure and patterns\n",
    "5. **Onboarding**: New developers can quickly understand project conventions\n",
    "\n",
    "### How It Works with Strands SDK\n",
    "\n",
    "The rules file we downloaded defines specific patterns for **AWS Strands Agent development**:\n",
    "\n",
    "**Project Structure:**\n",
    "```\n",
    "project/\n",
    "├── infra/           # Jupyter notebooks for AWS infrastructure\n",
    "├── src/\n",
    "│   ├── agents/      # Strands agent implementations\n",
    "│   └── tools/       # Custom Python tools\n",
    "└── tests/           # Unit and integration tests\n",
    "```\n",
    "\n",
    "**Development Workflow:**\n",
    "1. **Research Phase**: Check PyPI for latest Strands SDK, validate existing tools\n",
    "2. **Incremental Development**: Small, testable chunks with simple implementations\n",
    "3. **Code Generation**: Precise scope, no assumptions about unstated requirements\n",
    "\n",
    "**Strands Patterns**: The rules enforce proper use of Strands multi-agent patterns:\n",
    "- **Graph**: Structured flowcharts with conditional logic\n",
    "- **Swarm**: Dynamic collaborative teams with autonomous handoffs\n",
    "- **Workflow**: Pre-defined task graphs (DAGs) for repeatable processes\n",
    "\n",
    "**Reference:** [Strands Multi-Agent Patterns](https://strandsagents.com/latest/documentation/docs/user-guide/concepts/multi-agent/multi-agent-patterns/)"
   ]
  },
  {
   "cell_type": "markdown",
   "id": "strands-patterns-section",
   "metadata": {},
   "source": [
    "### Strands SDK Multi-Agent Patterns\n",
    "\n",
    "The Strands SDK provides three primary patterns for building multi-agent systems:\n",
    "\n",
    "| Pattern | Use Case | Execution Flow | Best For |\n",
    "|---------|----------|----------------|----------|\n",
    "| **Graph** | Structured processes with conditional logic | Developer-defined flowchart with LLM decisions | Customer support routing, data validation |\n",
    "| **Swarm** | Collaborative specialized agents | Autonomous handoffs between agents | Incident response, software development |\n",
    "| **Workflow** | Repeatable complex processes | Pre-defined task dependencies (DAG) | Data pipelines, business processes |\n",
    "\n",
    "**Key Principles:**\n",
    "- **Orchestration**: Managing flow of information between agents\n",
    "- **Specialization**: Each agent has specific role and tools\n",
    "- **Collaboration**: Agents share information and build on each other's work\n",
    "\n",
    "**Shared State**: Both Graph and Swarm support `invocation_state` for passing context:\n",
    "```python\n",
    "shared_state = {\n",
    "    \"user_id\": \"user123\",\n",
    "    \"session_id\": \"sess456\",\n",
    "    \"debug_mode\": True\n",
    "}\n",
    "\n",
    "result = graph(\"Analyze data\", invocation_state=shared_state)\n",
    "```"
   ]
  },
  {
   "cell_type": "markdown",
   "id": "mcp-explanation-section",
   "metadata": {},
   "source": [
    "### Model Context Protocol (MCP) Integration\n",
    "\n",
    "**MCP** is an open protocol that standardizes how applications provide context to LLMs. The MCP servers we configured provide:\n",
    "\n",
    "**Strands MCP Server:**\n",
    "- Access to Strands SDK documentation\n",
    "- Code examples and patterns\n",
    "- Best practices for agent development\n",
    "\n",
    "**AWS Documentation MCP Server:**\n",
    "- Official AWS service documentation\n",
    "- API references and guides\n",
    "- Service integration patterns\n",
    "\n",
    "**Bedrock AgentCore MCP Server:**\n",
    "- Knowledge base management\n",
    "- Natural language querying\n",
    "- AgentCore deployment tools\n",
    "\n",
    "These MCP servers work together with the rules to provide a comprehensive development environment where Q CLI has access to both the specifications (rules) and the documentation (MCP servers) needed for effective agent development."
   ]
  },
  {
   "cell_type": "markdown",
   "id": "next-steps-section",
   "metadata": {},
   "source": [
    "---\n",
    "\n",
    "## Next Steps\n",
    "\n",
    "After completing this setup, you can proceed with agent development. Consider reviewing the following resources:"
   ]
  },
  {
   "cell_type": "markdown",
   "id": "agentcore-reference",
   "metadata": {},
   "source": [
    "### Understanding AgentCore Deployment\n",
    "\n",
    "To understand the current AgentCore deployment and project structure, refer to the bedrock-agentcore-workshop notebook:\n",
    "\n",
    "**Reference:** `bedrock-agentcore-workshop/lab-05-frontend.ipynb`\n",
    "\n",
    "This notebook provides insights into:\n",
    "- AgentCore deployment patterns\n",
    "- Frontend integration approaches\n",
    "- Best practices for agent-to-frontend communication"
   ]
  },
  {
   "cell_type": "markdown",
   "id": "project-requirements",
   "metadata": {},
   "source": [
    "### Project Objective: Visual Analytics Agent\n",
    "\n",
    "**Goal:** Create a Visual Analytics Agent for Customer Support Memory Analysis\n",
    "\n",
    "**Description:** Build a standalone Visual Analytics Agent that connects directly to the existing customer support memory system to generate real-time visual insights from conversation data.\n",
    "\n",
    "**Requirements:**\n",
    "- Deploy as independent service (no modifications to existing customer support agent)\n",
    "- Connect directly to the same memory backend used by customer support agent\n",
    "- Generate charts: conversation trends, resolution rates, topic distribution, session patterns\n",
    "\n",
    "**Development Approach:**\n",
    "1. Follow the rules defined in `.amazonq/rules/rule.md`\n",
    "2. Use the Strands SDK patterns and tools\n",
    "3. Implement incremental development with proper testing\n",
    "4. Leverage the MCP servers for documentation and AWS service integration\n",
    "\n",
    "**Recommended Pattern:** Consider using **Swarm** pattern for this project:\n",
    "- **Data Analyst Agent**: Queries and processes conversation data\n",
    "- **Visualization Agent**: Creates charts and visual representations\n",
    "- **Insight Agent**: Generates analytical insights and recommendations\n",
    "- **Report Agent**: Compiles final visual analytics reports"
   ]
  },
  {
   "cell_type": "markdown",
   "id": "verification-section",
   "metadata": {},
   "source": [
    "---\n",
    "\n",
    "## Verification\n",
    "\n",
    "To verify your setup is working correctly, you can run:\n",
    "\n",
    "```bash\n",
    "# Check Q CLI MCP servers\n",
    "q mcp list\n",
    "\n",
    "# Verify UV installation\n",
    "uv --version\n",
    "\n",
    "# Check if rules are in place\n",
    "ls -la .amazonq/rules/\n",
    "\n",
    "# Test Q CLI with rules\n",
    "q chat \"What are the project structure requirements for Strands agents?\"\n",
    "```\n",
    "\n",
    "You should see:\n",
    "- Configured MCP servers listed\n",
    "- UV version information\n",
    "- Rules file in the expected location\n",
    "- Q CLI responding with information from the rules file\n",
    "\n",
    "### Expected Output\n",
    "When you ask Q CLI about project structure, it should reference the rules and provide information about the required directory layout:\n",
    "- `infra/` for Jupyter notebooks\n",
    "- `src/agents/` for Strands agent implementations\n",
    "- `src/tools/` for custom Python tools\n",
    "- `tests/` for unit and integration tests"
   ]
  },
  {
   "cell_type": "markdown",
   "id": "references-section",
   "metadata": {},
   "source": [
    "---\n",
    "\n",
    "## References\n",
    "\n",
    "### AWS Documentation\n",
    "- [Amazon Q Developer Project Rules](https://docs.aws.amazon.com/amazonq/latest/qdeveloper-ug/command-line-project-rules.html)\n",
    "- [Amazon Q Developer Features](https://docs.aws.amazon.com/amazonq/latest/qdeveloper-ug/features.html)\n",
    "- [AWS Prescriptive Guidance - Developer Workflows](https://docs.aws.amazon.com/prescriptive-guidance/latest/best-practices-code-generation/developer-workflows.html)\n",
    "\n",
    "### Strands SDK Documentation\n",
    "- [Strands Multi-Agent Patterns](https://strandsagents.com/latest/documentation/docs/user-guide/concepts/multi-agent/multi-agent-patterns/)\n",
    "- [Agent2Agent (A2A) Protocol](https://strandsagents.com/latest/documentation/docs/user-guide/concepts/multi-agent/agent-to-agent/)\n",
    "- [CLI Reference Implementation](https://strandsagents.com/latest/documentation/docs/examples/python/cli-reference-agent/)\n",
    "\n",
    "### Tools and Protocols\n",
    "- [Model Context Protocol (MCP)](https://modelcontextprotocol.io/)\n",
    "- [UV Package Manager](https://docs.astral.sh/uv/)\n",
    "- [Agent2Agent Protocol](https://a2aproject.github.io/A2A/latest/)"
   ]
  }
 ],
 "metadata": {
  "kernelspec": {
   "display_name": "Python 3",
   "language": "python",
   "name": "python3"
  },
  "language_info": {
   "codemirror_mode": {
    "name": "ipython",
    "version": 3
   },
   "file_extension": ".py",
   "mimetype": "text/x-python",
   "name": "python",
   "nbconvert_exporter": "python",
   "pygments_lexer": "ipython3",
   "version": "3.9.0"
  }
 },
 "nbformat": 4,
 "nbformat_minor": 5
}
